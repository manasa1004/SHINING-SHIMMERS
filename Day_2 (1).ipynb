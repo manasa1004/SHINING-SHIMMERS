{
  "nbformat": 4,
  "nbformat_minor": 0,
  "metadata": {
    "colab": {
      "name": "Day 2.ipynb",
      "provenance": [],
      "collapsed_sections": []
    },
    "kernelspec": {
      "name": "python3",
      "display_name": "Python 3"
    }
  },
  "cells": [
    {
      "cell_type": "code",
      "source": [
        ""
      ],
      "metadata": {
        "id": "3nuBd_NgiOy2"
      },
      "execution_count": null,
      "outputs": []
    },
    {
      "cell_type": "markdown",
      "source": [
        ""
      ],
      "metadata": {
        "id": "XF8syMgCRbMT"
      }
    },
    {
      "cell_type": "markdown",
      "source": [
        ""
      ],
      "metadata": {
        "id": "RO7AA0Ib826F"
      }
    },
    {
      "cell_type": "code",
      "source": [
        "from google.colab import drive\n",
        "drive.mount('/content/drive')"
      ],
      "metadata": {
        "id": "X1EcIka4nTN4",
        "outputId": "a12708ea-4d39-4ca8-bee3-7a56986a6e04",
        "colab": {
          "base_uri": "https://localhost:8080/"
        }
      },
      "execution_count": null,
      "outputs": [
        {
          "output_type": "stream",
          "name": "stdout",
          "text": [
            "Mounted at /content/drive\n"
          ]
        }
      ]
    },
    {
      "cell_type": "code",
      "source": [
        "import librosa\n",
        "import soundfile\n",
        "import os, glob,pickle\n",
        "import numpy as np\n",
        "from sklearn.model_selection import train_test_split\n",
        "from sklearn.neural_network import MLPClassifier\n",
        "from sklearn.metrics import accuracy_score"
      ],
      "metadata": {
        "id": "3bZErBGgLpHl"
      },
      "execution_count": null,
      "outputs": []
    },
    {
      "cell_type": "code",
      "source": [
        "def extract_feature(file_name, mfcc, chroma, mel):\n",
        "    with soundfile.SoundFile(file_name) as sound_file:\n",
        "        X = sound_file.read(dtype=\"float32\")\n",
        "        sample_rate=sound_file.samplerate\n",
        "        if chroma:\n",
        "            stft=np.abs(librosa.stft(X))\n",
        "        result=np.array([])\n",
        "        if mfcc:\n",
        "            mfccs=np.mean(librosa.feature.mfcc(y=X, sr=sample_rate,\n",
        "n_mfcc=40).T, axis=0)\n",
        "            result=np.hstack((result, mfccs))\n",
        "            if chroma:\n",
        "                chroma=np.mean(librosa.feature.chroma_stft(S=stft,\n",
        "sr=sample_rate).T,axis=0)\n",
        "                result=np.hstack((result, chroma))\n",
        "            if mel:\n",
        "                mel=np.mean(librosa.feature.melspectrogram(X,\n",
        "sr=sample_rate).T,axis=0)\n",
        "                result=np.hstack((result, mel))\n",
        "    return result"
      ],
      "metadata": {
        "id": "YDA4y0ARESIl"
      },
      "execution_count": null,
      "outputs": []
    },
    {
      "cell_type": "code",
      "source": [
        "emotions={'01':'neutral','02':'calm','03':'happy','04':'sad','05':'angry',\n",
        "'06':'fearful','07':'disgust','08':'surprised'}\n",
        "print(\"Emotions in the data set are : \" , emotions)"
      ],
      "metadata": {
        "colab": {
          "base_uri": "https://localhost:8080/"
        },
        "id": "CIoW0lWKOMxB",
        "outputId": "829a5e2b-348e-466a-8eb1-4d9c8747433c"
      },
      "execution_count": null,
      "outputs": [
        {
          "output_type": "stream",
          "name": "stdout",
          "text": [
            "Emotions in the data set are :  {'01': 'neutral', '02': 'calm', '03': 'happy', '04': 'sad', '05': 'angry', '06': 'fearful', '07': 'disgust', '08': 'surprised'}\n"
          ]
        }
      ]
    },
    {
      "cell_type": "code",
      "source": [
        "observed_emotions=['angry', 'happy', 'neutral', 'sad']\n",
        "print(\"Emotions being observed are : \" , observed_emotions)"
      ],
      "metadata": {
        "colab": {
          "base_uri": "https://localhost:8080/"
        },
        "id": "43xOT-T2OUjy",
        "outputId": "8d354670-f915-4bf4-940a-89d191795e74"
      },
      "execution_count": null,
      "outputs": [
        {
          "output_type": "stream",
          "name": "stdout",
          "text": [
            "Emotions being observed are :  ['angry', 'happy', 'neutral', 'sad']\n"
          ]
        }
      ]
    },
    {
      "cell_type": "code",
      "source": [
        "def load_data(test_size=0.25):\n",
        "  x,y=[],[]\n",
        "  for file in glob.glob(\"/content/drive/MyDrive/DATASET/Dataset/RAVDESS_Dataset/Actor_*/*.wav\"):\n",
        "    file_name=os.path.basename(file)\n",
        "    emotion=emotions[file_name.split(\"-\")[2]]\n",
        "    if emotion not in observed_emotions:\n",
        "      continue\n",
        "    try:\n",
        "      feature=extract_feature(file, mfcc=True, chroma=True, mel=True)\n",
        "    except:\n",
        "      continue\n",
        "    x.append(feature)\n",
        "    y.append(emotion)\n",
        "  return train_test_split(np.array(x), y, test_size=test_size, random_state=9)"
      ],
      "metadata": {
        "id": "myAyEpGPOZz3"
      },
      "execution_count": null,
      "outputs": []
    },
    {
      "cell_type": "code",
      "source": [
        "x_train,x_test,y_train,y_test=load_data(test_size=0.25)\n",
        "print((x_train.shape[0], x_test.shape[0]))"
      ],
      "metadata": {
        "id": "TCXpmb5Lfozp",
        "outputId": "4c6cd2e5-e33b-4c92-8703-374f30b7b2cf",
        "colab": {
          "base_uri": "https://localhost:8080/"
        }
      },
      "execution_count": null,
      "outputs": [
        {
          "output_type": "stream",
          "name": "stdout",
          "text": [
            "(504, 168)\n"
          ]
        }
      ]
    },
    {
      "cell_type": "code",
      "source": [
        "print(f'Features extracted: {x_train.shape[1]}')"
      ],
      "metadata": {
        "colab": {
          "base_uri": "https://localhost:8080/"
        },
        "id": "JPsL60x3_khp",
        "outputId": "a9e24882-85b0-4636-d7a3-a5ff40cb837b"
      },
      "execution_count": null,
      "outputs": [
        {
          "output_type": "stream",
          "name": "stdout",
          "text": [
            "Features extracted: 180\n"
          ]
        }
      ]
    },
    {
      "cell_type": "code",
      "source": [
        "model=MLPClassifier(alpha=0.01, batch_size=256, epsilon=1e-08,\n",
        "hidden_layer_sizes=(300,), learning_rate='adaptive', max_iter=500)"
      ],
      "metadata": {
        "id": "Z0ifAOaQAUF7"
      },
      "execution_count": null,
      "outputs": []
    },
    {
      "cell_type": "code",
      "source": [
        "model.fit(x_train,y_train)"
      ],
      "metadata": {
        "colab": {
          "base_uri": "https://localhost:8080/"
        },
        "id": "7CV1ZnQnfhlt",
        "outputId": "91a6cb91-03e7-469d-db41-c5f28f730d2b"
      },
      "execution_count": null,
      "outputs": [
        {
          "output_type": "execute_result",
          "data": {
            "text/plain": [
              "MLPClassifier(alpha=0.01, batch_size=256, hidden_layer_sizes=(300,),\n",
              "              learning_rate='adaptive', max_iter=500)"
            ]
          },
          "metadata": {},
          "execution_count": 17
        }
      ]
    },
    {
      "cell_type": "code",
      "source": [
        "y_pred=model.predict(x_test)"
      ],
      "metadata": {
        "id": "iPLH8XJvflB0"
      },
      "execution_count": null,
      "outputs": []
    },
    {
      "cell_type": "code",
      "source": [
        "accuracy=accuracy_score(y_true=y_test, y_pred=y_pred)"
      ],
      "metadata": {
        "id": "xk_Q9fGdfpAB"
      },
      "execution_count": null,
      "outputs": []
    },
    {
      "cell_type": "code",
      "source": [
        "print(\"Accuracy: {:.2f}%\".format(accuracy*100))"
      ],
      "metadata": {
        "colab": {
          "base_uri": "https://localhost:8080/"
        },
        "id": "3XZbmDQSfpHM",
        "outputId": "f505ee24-fed2-4d68-c760-74393061c762"
      },
      "execution_count": null,
      "outputs": [
        {
          "output_type": "stream",
          "name": "stdout",
          "text": [
            "Accuracy: 76.19%\n"
          ]
        }
      ]
    }
  ]
}