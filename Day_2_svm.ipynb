{
  "nbformat": 4,
  "nbformat_minor": 0,
  "metadata": {
    "colab": {
      "name": "Day 2 svm.ipynb",
      "provenance": [],
      "collapsed_sections": []
    },
    "kernelspec": {
      "name": "python3",
      "display_name": "Python 3"
    }
  },
  "cells": [
    {
      "cell_type": "markdown",
      "source": [
        ""
      ],
      "metadata": {
        "id": "XF8syMgCRbMT"
      }
    },
    {
      "cell_type": "markdown",
      "source": [
        ""
      ],
      "metadata": {
        "id": "RO7AA0Ib826F"
      }
    },
    {
      "cell_type": "code",
      "source": [
        "from google.colab import drive\n",
        "drive.mount('/content/drive')"
      ],
      "metadata": {
        "id": "X1EcIka4nTN4",
        "outputId": "31f21a60-5f05-4c76-95fa-83c1853b4886",
        "colab": {
          "base_uri": "https://localhost:8080/"
        }
      },
      "execution_count": null,
      "outputs": [
        {
          "output_type": "stream",
          "name": "stdout",
          "text": [
            "Mounted at /content/drive\n"
          ]
        }
      ]
    },
    {
      "cell_type": "code",
      "source": [
        "import librosa\n",
        "import soundfile\n",
        "import os, glob,pickle\n",
        "import numpy as np\n",
        "from sklearn.model_selection import train_test_split\n",
        "from sklearn.neural_network import MLPClassifier\n",
        "from sklearn.metrics import accuracy_score"
      ],
      "metadata": {
        "id": "3bZErBGgLpHl"
      },
      "execution_count": null,
      "outputs": []
    },
    {
      "cell_type": "code",
      "source": [
        "def extract_feature(file_name, mfcc, chroma, mel):\n",
        "    with soundfile.SoundFile(file_name) as sound_file:\n",
        "        X = sound_file.read(dtype=\"float32\")\n",
        "        sample_rate=sound_file.samplerate\n",
        "        if chroma:\n",
        "            stft=np.abs(librosa.stft(X))\n",
        "        result=np.array([])\n",
        "        if mfcc:\n",
        "            mfccs=np.mean(librosa.feature.mfcc(y=X, sr=sample_rate,\n",
        "n_mfcc=40).T, axis=0)\n",
        "            result=np.hstack((result, mfccs))\n",
        "            if chroma:\n",
        "                chroma=np.mean(librosa.feature.chroma_stft(S=stft,\n",
        "sr=sample_rate).T,axis=0)\n",
        "                result=np.hstack((result, chroma))\n",
        "            if mel:\n",
        "                mel=np.mean(librosa.feature.melspectrogram(X,\n",
        "sr=sample_rate).T,axis=0)\n",
        "                result=np.hstack((result, mel))\n",
        "    return result"
      ],
      "metadata": {
        "id": "YDA4y0ARESIl"
      },
      "execution_count": null,
      "outputs": []
    },
    {
      "cell_type": "code",
      "source": [
        "emotions={'01':'neutral','02':'calm','03':'happy','04':'sad','05':'angry',\n",
        "'06':'fearful','07':'disgust','08':'surprised'}\n",
        "print(\"Emotions in the data set are : \" , emotions)"
      ],
      "metadata": {
        "colab": {
          "base_uri": "https://localhost:8080/"
        },
        "id": "CIoW0lWKOMxB",
        "outputId": "d0c0b8cc-10fe-4635-fff1-cb20c62db0f4"
      },
      "execution_count": null,
      "outputs": [
        {
          "output_type": "stream",
          "name": "stdout",
          "text": [
            "Emotions in the data set are :  {'01': 'neutral', '02': 'calm', '03': 'happy', '04': 'sad', '05': 'angry', '06': 'fearful', '07': 'disgust', '08': 'surprised'}\n"
          ]
        }
      ]
    },
    {
      "cell_type": "code",
      "source": [
        "observed_emotions=['angry', 'happy', 'neutral', 'sad']\n",
        "print(\"Emotions being observed are : \" , observed_emotions)"
      ],
      "metadata": {
        "colab": {
          "base_uri": "https://localhost:8080/"
        },
        "id": "43xOT-T2OUjy",
        "outputId": "32c2fea3-3c12-4d3d-fbd4-f964210c36a8"
      },
      "execution_count": null,
      "outputs": [
        {
          "output_type": "stream",
          "name": "stdout",
          "text": [
            "Emotions being observed are :  ['angry', 'happy', 'neutral', 'sad']\n"
          ]
        }
      ]
    },
    {
      "cell_type": "code",
      "source": [
        "def load_data(test_size=0.25):\n",
        "  x,y=[],[]\n",
        "  for file in glob.glob(\"/content/drive/MyDrive/DATASET/Dataset/RAVDESS_Dataset/Actor_*/*.wav\"):\n",
        "    file_name=os.path.basename(file)\n",
        "    emotion=emotions[file_name.split(\"-\")[2]]\n",
        "    if emotion not in observed_emotions:\n",
        "      continue\n",
        "    try:\n",
        "      feature=extract_feature(file, mfcc=True, chroma=True, mel=True)\n",
        "    except:\n",
        "      continue\n",
        "    x.append(feature)\n",
        "    y.append(emotion)\n",
        "  return train_test_split(np.array(x), y, test_size=test_size, random_state=9)"
      ],
      "metadata": {
        "id": "myAyEpGPOZz3"
      },
      "execution_count": null,
      "outputs": []
    },
    {
      "cell_type": "code",
      "source": [
        "x_train,x_test,y_train,y_test=load_data(test_size=0.25)\n",
        "print((x_train.shape[0], x_test.shape[0]))"
      ],
      "metadata": {
        "id": "TCXpmb5Lfozp",
        "outputId": "6fd3c7f9-4872-4fc6-b727-628e40934f05",
        "colab": {
          "base_uri": "https://localhost:8080/"
        }
      },
      "execution_count": null,
      "outputs": [
        {
          "output_type": "stream",
          "name": "stdout",
          "text": [
            "(504, 168)\n"
          ]
        }
      ]
    },
    {
      "cell_type": "code",
      "source": [
        "print(f'Features extracted: {x_train.shape[1]}')"
      ],
      "metadata": {
        "colab": {
          "base_uri": "https://localhost:8080/"
        },
        "id": "JPsL60x3_khp",
        "outputId": "a9e24882-85b0-4636-d7a3-a5ff40cb837b"
      },
      "execution_count": null,
      "outputs": [
        {
          "output_type": "stream",
          "name": "stdout",
          "text": [
            "Features extracted: 180\n"
          ]
        }
      ]
    },
    {
      "cell_type": "code",
      "source": [
        "from sklearn.svm import SVC\n",
        "clf = SVC(verbose=True, cache_size = 700)\n",
        "clf.fit(x_train, y_train)\n",
        "\n",
        "print (\"Training Accuracy %.2f\" % (clf.score(x_train, y_train)))\n",
        "print (\"Testing Accuracy %.2f\" % (clf.score(x_test, y_test)))\n"
      ],
      "metadata": {
        "id": "ipax1DfPgFuo",
        "colab": {
          "base_uri": "https://localhost:8080/"
        },
        "outputId": "86d0959e-82d0-4f27-fd16-abf6743407f9"
      },
      "execution_count": null,
      "outputs": [
        {
          "output_type": "stream",
          "name": "stdout",
          "text": [
            "[LibSVM]Training Accuracy 0.48\n",
            "Testing Accuracy 0.47\n"
          ]
        }
      ]
    },
    {
      "cell_type": "code",
      "source": [
        "y_pred=clf.predict(x_test)"
      ],
      "metadata": {
        "id": "w5vAl6qm0o4d"
      },
      "execution_count": null,
      "outputs": []
    },
    {
      "cell_type": "code",
      "source": [
        "accuracy=accuracy_score(y_true=y_test, y_pred=y_pred)"
      ],
      "metadata": {
        "id": "HPm066JpyjBP"
      },
      "execution_count": null,
      "outputs": []
    },
    {
      "cell_type": "code",
      "source": [
        "print(accuracy)"
      ],
      "metadata": {
        "colab": {
          "base_uri": "https://localhost:8080/"
        },
        "id": "2GIjJ9s9z5Dm",
        "outputId": "379a69b8-011f-4405-b7de-6e746ec3f313"
      },
      "execution_count": null,
      "outputs": [
        {
          "output_type": "stream",
          "name": "stdout",
          "text": [
            "0.47023809523809523\n"
          ]
        }
      ]
    }
  ]
}